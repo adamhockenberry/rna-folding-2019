{
 "cells": [
  {
   "cell_type": "code",
   "execution_count": 1,
   "metadata": {},
   "outputs": [],
   "source": [
    "%matplotlib inline"
   ]
  },
  {
   "cell_type": "markdown",
   "metadata": {},
   "source": [
    "# Imports"
   ]
  },
  {
   "cell_type": "code",
   "execution_count": 2,
   "metadata": {},
   "outputs": [],
   "source": [
    "import pandas as pd\n",
    "from scipy import stats\n",
    "\n",
    "import matplotlib.pyplot as plt\n",
    "\n",
    "import numpy as np\n",
    "from sklearn.metrics import roc_auc_score, classification_report, confusion_matrix\n",
    "from sklearn.model_selection import train_test_split"
   ]
  },
  {
   "cell_type": "markdown",
   "metadata": {},
   "source": [
    "# Read in / set-up data\n",
    "\n",
    "The relevant file should have been constructed from the `start_folding_energies.ipynb` file"
   ]
  },
  {
   "cell_type": "code",
   "execution_count": 3,
   "metadata": {},
   "outputs": [
    {
     "data": {
      "text/html": [
       "<div>\n",
       "<style scoped>\n",
       "    .dataframe tbody tr th:only-of-type {\n",
       "        vertical-align: middle;\n",
       "    }\n",
       "\n",
       "    .dataframe tbody tr th {\n",
       "        vertical-align: top;\n",
       "    }\n",
       "\n",
       "    .dataframe thead th {\n",
       "        text-align: right;\n",
       "    }\n",
       "</style>\n",
       "<table border=\"1\" class=\"dataframe\">\n",
       "  <thead>\n",
       "    <tr style=\"text-align: right;\">\n",
       "      <th></th>\n",
       "      <th>locus_tag</th>\n",
       "      <th>ATG_index</th>\n",
       "      <th>location</th>\n",
       "      <th>within_frame</th>\n",
       "      <th>Unconstrained_mfe</th>\n",
       "      <th>Unconstrained_ensemble</th>\n",
       "      <th>Constrained_mfe</th>\n",
       "      <th>Constrained_ensemble</th>\n",
       "    </tr>\n",
       "  </thead>\n",
       "  <tbody>\n",
       "    <tr>\n",
       "      <th>0</th>\n",
       "      <td>b0001</td>\n",
       "      <td>0</td>\n",
       "      <td>External</td>\n",
       "      <td>NaN</td>\n",
       "      <td>-4.30</td>\n",
       "      <td>-2.0</td>\n",
       "      <td>-3.47</td>\n",
       "      <td>-1.4</td>\n",
       "    </tr>\n",
       "    <tr>\n",
       "      <th>1</th>\n",
       "      <td>b0002</td>\n",
       "      <td>0</td>\n",
       "      <td>External</td>\n",
       "      <td>NaN</td>\n",
       "      <td>-20.68</td>\n",
       "      <td>-18.1</td>\n",
       "      <td>-17.03</td>\n",
       "      <td>-14.5</td>\n",
       "    </tr>\n",
       "    <tr>\n",
       "      <th>2</th>\n",
       "      <td>b0002</td>\n",
       "      <td>37</td>\n",
       "      <td>Internal</td>\n",
       "      <td>False</td>\n",
       "      <td>-29.91</td>\n",
       "      <td>-27.0</td>\n",
       "      <td>-24.78</td>\n",
       "      <td>-22.7</td>\n",
       "    </tr>\n",
       "    <tr>\n",
       "      <th>3</th>\n",
       "      <td>b0002</td>\n",
       "      <td>79</td>\n",
       "      <td>Internal</td>\n",
       "      <td>False</td>\n",
       "      <td>-43.35</td>\n",
       "      <td>-40.8</td>\n",
       "      <td>-41.45</td>\n",
       "      <td>-39.8</td>\n",
       "    </tr>\n",
       "    <tr>\n",
       "      <th>4</th>\n",
       "      <td>b0002</td>\n",
       "      <td>147</td>\n",
       "      <td>Internal</td>\n",
       "      <td>True</td>\n",
       "      <td>-22.77</td>\n",
       "      <td>-20.5</td>\n",
       "      <td>-17.23</td>\n",
       "      <td>-15.8</td>\n",
       "    </tr>\n",
       "  </tbody>\n",
       "</table>\n",
       "</div>"
      ],
      "text/plain": [
       "  locus_tag  ATG_index  location within_frame  Unconstrained_mfe  \\\n",
       "0     b0001          0  External          NaN              -4.30   \n",
       "1     b0002          0  External          NaN             -20.68   \n",
       "2     b0002         37  Internal        False             -29.91   \n",
       "3     b0002         79  Internal        False             -43.35   \n",
       "4     b0002        147  Internal         True             -22.77   \n",
       "\n",
       "   Unconstrained_ensemble  Constrained_mfe  Constrained_ensemble  \n",
       "0                    -2.0            -3.47                  -1.4  \n",
       "1                   -18.1           -17.03                 -14.5  \n",
       "2                   -27.0           -24.78                 -22.7  \n",
       "3                   -40.8           -41.45                 -39.8  \n",
       "4                   -20.5           -17.23                 -15.8  "
      ]
     },
     "execution_count": 3,
     "metadata": {},
     "output_type": "execute_result"
    }
   ],
   "source": [
    "start_df = pd.read_csv('../Data/ecoli_folding_energies.tsv', sep='\\t')\n",
    "start_df.head()"
   ]
  },
  {
   "cell_type": "code",
   "execution_count": 4,
   "metadata": {},
   "outputs": [],
   "source": [
    "#I unfortunately can't figure out an easy way to have sklearn handle categorical variables\n",
    "#and they need to be hard coded to 0 or 1 instead of \"Internal\" or \"External\"\n",
    "\n",
    "#First say that no lines are true positives (assigning them a value of zero)\n",
    "start_df['True_positive'] = 0\n",
    "#And now change all of the positions labeled as \"External\" (assigning them a value of one)\n",
    "start_df.at[start_df[start_df['location']=='External'].index, 'True_positive'] = 1"
   ]
  },
  {
   "cell_type": "code",
   "execution_count": 5,
   "metadata": {},
   "outputs": [],
   "source": [
    "#If I have any NaN's in my dataset, now is the time to get rid of them to prevent errors\n",
    "# start_df = start_df[start_df['Constrained_mfe'].isnull() == False]"
   ]
  },
  {
   "cell_type": "markdown",
   "metadata": {},
   "source": [
    "**Make an ugly plot of the difference in some relevant quantity**"
   ]
  },
  {
   "cell_type": "code",
   "execution_count": 6,
   "metadata": {},
   "outputs": [
    {
     "name": "stdout",
     "output_type": "stream",
     "text": [
      "Ttest_indResult(statistic=64.52095422912225, pvalue=0.0)\n",
      "RanksumsResult(statistic=58.78489725726464, pvalue=0.0)\n"
     ]
    },
    {
     "data": {
      "image/png": "[encoded data removed]",
      "text/plain": [
       "<Figure size 432x288 with 1 Axes>"
      ]
     },
     "metadata": {
      "needs_background": "light"
     },
     "output_type": "display_data"
    }
   ],
   "source": [
    "coi = 'Unconstrained_mfe'\n",
    "a = start_df[start_df['True_positive']==1][coi]\n",
    "b = start_df[start_df['True_positive']==0][coi]\n",
    "\n",
    "\n",
    "fig, ax = plt.subplots()\n",
    "ax.hist(a, density=True)\n",
    "ax.hist(b, density=True)\n",
    "print(stats.ttest_ind(a,b))\n",
    "print(stats.ranksums(a,b))"
   ]
  },
  {
   "cell_type": "markdown",
   "metadata": {},
   "source": [
    "**Area under the ROC**"
   ]
  },
  {
   "cell_type": "code",
   "execution_count": 64,
   "metadata": {},
   "outputs": [
    {
     "name": "stdout",
     "output_type": "stream",
     "text": [
      "0.7812592720478599\n"
     ]
    }
   ],
   "source": [
    "coi = 'Unconstrained_mfe'\n",
    "y_true = start_df['True_positive']\n",
    "y_scores = start_df[coi]\n",
    "print(roc_auc_score(y_true, y_scores))"
   ]
  },
  {
   "cell_type": "markdown",
   "metadata": {},
   "source": [
    "**Make a new column that compares the unconstrained to constrained values**"
   ]
  },
  {
   "cell_type": "code",
   "execution_count": 31,
   "metadata": {},
   "outputs": [],
   "source": [
    "###Normalize that difference\n",
    "# start_df['mfe_diff'] = (start_df['Unconstrained_mfe']-start_df['Constrained_mfe'])/start_df['Unconstrained_mfe']\n",
    "\n",
    "###Or don't normalize it\n",
    "start_df['mfe_diff'] = (start_df['Unconstrained_mfe']-start_df['Constrained_mfe'])"
   ]
  },
  {
   "cell_type": "markdown",
   "metadata": {},
   "source": [
    "# Diving in to sklearn"
   ]
  },
  {
   "cell_type": "markdown",
   "metadata": {},
   "source": [
    "**More data preparation**"
   ]
  },
  {
   "cell_type": "code",
   "execution_count": 67,
   "metadata": {},
   "outputs": [],
   "source": [
    "#We're going to use the data (and only the data) in X to predict Y\n",
    "# X = start_df.drop(['locus_tag', 'location', 'within_frame', 'ATG_index', 'True_positive'], axis=1)\n",
    "# X = start_df.drop(['locus_tag', 'location', 'within_frame', 'ATG_index', 'True_positive',\\\n",
    "#                   'Unconstrained_ensemble', 'Constrained_ensemble', 'Unconstrained_mfe'], axis=1)\n",
    "X = start_df.drop(['locus_tag', 'location', 'within_frame', 'ATG_index', 'True_positive',\\\n",
    "                  'Unconstrained_ensemble', 'Constrained_ensemble', 'mfe_diff'], axis=1)\n",
    "Y = start_df['True_positive']"
   ]
  },
  {
   "cell_type": "code",
   "execution_count": 68,
   "metadata": {},
   "outputs": [
    {
     "data": {
      "text/html": [
       "<div>\n",
       "<style scoped>\n",
       "    .dataframe tbody tr th:only-of-type {\n",
       "        vertical-align: middle;\n",
       "    }\n",
       "\n",
       "    .dataframe tbody tr th {\n",
       "        vertical-align: top;\n",
       "    }\n",
       "\n",
       "    .dataframe thead th {\n",
       "        text-align: right;\n",
       "    }\n",
       "</style>\n",
       "<table border=\"1\" class=\"dataframe\">\n",
       "  <thead>\n",
       "    <tr style=\"text-align: right;\">\n",
       "      <th></th>\n",
       "      <th>Unconstrained_mfe</th>\n",
       "      <th>Constrained_mfe</th>\n",
       "    </tr>\n",
       "  </thead>\n",
       "  <tbody>\n",
       "    <tr>\n",
       "      <th>0</th>\n",
       "      <td>-4.30</td>\n",
       "      <td>-3.47</td>\n",
       "    </tr>\n",
       "    <tr>\n",
       "      <th>1</th>\n",
       "      <td>-20.68</td>\n",
       "      <td>-17.03</td>\n",
       "    </tr>\n",
       "    <tr>\n",
       "      <th>2</th>\n",
       "      <td>-29.91</td>\n",
       "      <td>-24.78</td>\n",
       "    </tr>\n",
       "    <tr>\n",
       "      <th>3</th>\n",
       "      <td>-43.35</td>\n",
       "      <td>-41.45</td>\n",
       "    </tr>\n",
       "    <tr>\n",
       "      <th>4</th>\n",
       "      <td>-22.77</td>\n",
       "      <td>-17.23</td>\n",
       "    </tr>\n",
       "  </tbody>\n",
       "</table>\n",
       "</div>"
      ],
      "text/plain": [
       "   Unconstrained_mfe  Constrained_mfe\n",
       "0              -4.30            -3.47\n",
       "1             -20.68           -17.03\n",
       "2             -29.91           -24.78\n",
       "3             -43.35           -41.45\n",
       "4             -22.77           -17.23"
      ]
     },
     "execution_count": 68,
     "metadata": {},
     "output_type": "execute_result"
    }
   ],
   "source": [
    "X.head()"
   ]
  },
  {
   "cell_type": "code",
   "execution_count": 69,
   "metadata": {},
   "outputs": [
    {
     "data": {
      "text/plain": [
       "0    1\n",
       "1    1\n",
       "2    0\n",
       "3    0\n",
       "4    0\n",
       "Name: True_positive, dtype: int64"
      ]
     },
     "execution_count": 69,
     "metadata": {},
     "output_type": "execute_result"
    }
   ],
   "source": [
    "Y.head()"
   ]
  },
  {
   "cell_type": "markdown",
   "metadata": {},
   "source": [
    "**Need to separate my training and testing data**"
   ]
  },
  {
   "cell_type": "code",
   "execution_count": 70,
   "metadata": {},
   "outputs": [],
   "source": [
    "X_train, X_test, Y_train, Y_test = train_test_split(X, Y, test_size = 0.20)"
   ]
  },
  {
   "cell_type": "code",
   "execution_count": 71,
   "metadata": {},
   "outputs": [
    {
     "data": {
      "text/html": [
       "<div>\n",
       "<style scoped>\n",
       "    .dataframe tbody tr th:only-of-type {\n",
       "        vertical-align: middle;\n",
       "    }\n",
       "\n",
       "    .dataframe tbody tr th {\n",
       "        vertical-align: top;\n",
       "    }\n",
       "\n",
       "    .dataframe thead th {\n",
       "        text-align: right;\n",
       "    }\n",
       "</style>\n",
       "<table border=\"1\" class=\"dataframe\">\n",
       "  <thead>\n",
       "    <tr style=\"text-align: right;\">\n",
       "      <th></th>\n",
       "      <th>Unconstrained_mfe</th>\n",
       "      <th>Constrained_mfe</th>\n",
       "    </tr>\n",
       "  </thead>\n",
       "  <tbody>\n",
       "    <tr>\n",
       "      <th>12869</th>\n",
       "      <td>-33.60</td>\n",
       "      <td>-19.61</td>\n",
       "    </tr>\n",
       "    <tr>\n",
       "      <th>45628</th>\n",
       "      <td>-32.99</td>\n",
       "      <td>-18.28</td>\n",
       "    </tr>\n",
       "    <tr>\n",
       "      <th>63213</th>\n",
       "      <td>-32.34</td>\n",
       "      <td>-22.29</td>\n",
       "    </tr>\n",
       "    <tr>\n",
       "      <th>69139</th>\n",
       "      <td>-27.03</td>\n",
       "      <td>-20.21</td>\n",
       "    </tr>\n",
       "    <tr>\n",
       "      <th>65709</th>\n",
       "      <td>-26.73</td>\n",
       "      <td>-21.30</td>\n",
       "    </tr>\n",
       "  </tbody>\n",
       "</table>\n",
       "</div>"
      ],
      "text/plain": [
       "       Unconstrained_mfe  Constrained_mfe\n",
       "12869             -33.60           -19.61\n",
       "45628             -32.99           -18.28\n",
       "63213             -32.34           -22.29\n",
       "69139             -27.03           -20.21\n",
       "65709             -26.73           -21.30"
      ]
     },
     "execution_count": 71,
     "metadata": {},
     "output_type": "execute_result"
    }
   ],
   "source": [
    "X_train.head()"
   ]
  },
  {
   "cell_type": "code",
   "execution_count": 72,
   "metadata": {},
   "outputs": [
    {
     "data": {
      "text/plain": [
       "12869    0\n",
       "45628    0\n",
       "63213    0\n",
       "69139    0\n",
       "65709    0\n",
       "Name: True_positive, dtype: int64"
      ]
     },
     "execution_count": 72,
     "metadata": {},
     "output_type": "execute_result"
    }
   ],
   "source": [
    "Y_train.head()"
   ]
  },
  {
   "cell_type": "markdown",
   "metadata": {},
   "source": [
    "# Fit a model to the training data"
   ]
  },
  {
   "cell_type": "markdown",
   "metadata": {},
   "source": [
    "**Lots of options here. Which is best? You'd have a multi-million dollar salary at google if you could answer that definitively. Fitting may take a lot of time depending on the method**\n",
    "\n",
    "**Initial playing around tells me that class imbalances are going to be important to consider. Which is to say, we have many more true negatives (internal not-start codons) than we do true positives (actual start codons). This will affect the ability of a model to accurately discriminate between the two without some tuning**"
   ]
  },
  {
   "cell_type": "code",
   "execution_count": 73,
   "metadata": {},
   "outputs": [
    {
     "data": {
      "text/plain": [
       "LogisticRegression(C=1.0, class_weight='balanced', dual=False,\n",
       "          fit_intercept=True, intercept_scaling=1, max_iter=100,\n",
       "          multi_class='multinomial', n_jobs=1, penalty='l2',\n",
       "          random_state=0, solver='lbfgs', tol=0.0001, verbose=0,\n",
       "          warm_start=False)"
      ]
     },
     "execution_count": 73,
     "metadata": {},
     "output_type": "execute_result"
    }
   ],
   "source": [
    "###Random forest is a good (and fast starting point). But beware class imbalances!\n",
    "# from sklearn.ensemble import RandomForestClassifier\n",
    "# # classifier = RandomForestClassifier(n_estimators=100, max_depth=2, random_state=0)\n",
    "# classifier = RandomForestClassifier(n_estimators=100, max_depth=2, random_state=0,\\\n",
    "#                                     class_weight='balanced')\n",
    "# classifier.fit(X_train, Y_train)\n",
    "\n",
    "# ##SVM is another VERY common option to consider. I like to have class probabilities which takes longer\n",
    "# from sklearn.svm import SVC\n",
    "# # classifier = SVC(kernel='rbf')\n",
    "# classifier = SVC(kernel='rbf', class_weight='balanced')\n",
    "# # classifier = SVC(kernel='rbf', probability=True)\n",
    "# classifier.fit(X_train, Y_train)\n",
    "\n",
    "###Good old logistic regression\n",
    "from sklearn.linear_model import LogisticRegression\n",
    "classifier = LogisticRegression(random_state=0, solver='lbfgs', multi_class='multinomial',\\\n",
    "                                class_weight='balanced')\n",
    "classifier.fit(X_train, Y_train)\n",
    "\n",
    "\n",
    "###Boosted trees frequently outcompete random forest classifiers but it can be tricky\n",
    "# from sklearn.ensemble import GradientBoostingClassifier\n",
    "# classifier = GradientBoostingClassifier(n_estimators=100, learning_rate=1.0, max_depth=1, random_state=0)\n",
    "# classifier.fit(X_train, Y_train)\n",
    "\n",
    "# from sklearn.gaussian_process import GaussianProcessClassifier\n",
    "# classifier = GaussianProcessClassifier(random_state=0)\n",
    "# classifier.fit(X_train, Y_train)\n",
    "\n",
    "# from sklearn.neural_network import MLPClassifier\n",
    "# classifier = MLPClassifier(solver='lbfgs', alpha=1e-5, hidden_layer_sizes=(5, 2), random_state=1)\n",
    "# classifier.fit(X_train, Y_train)"
   ]
  },
  {
   "cell_type": "markdown",
   "metadata": {},
   "source": [
    "# Evaluate how we did\n",
    "\n",
    "(I need to check into what the `classifier.score` is and whether we can change it).\n",
    "\n",
    "But the important thing is that ideally there isn't a *huge* dropoff between score on the training and testing data (this would happen if we overfit to the training data). But a drop is natural to see."
   ]
  },
  {
   "cell_type": "code",
   "execution_count": 74,
   "metadata": {},
   "outputs": [
    {
     "data": {
      "text/plain": [
       "(0.7105131313131313, 0.7112935548516388)"
      ]
     },
     "execution_count": 74,
     "metadata": {},
     "output_type": "execute_result"
    }
   ],
   "source": [
    "classifier.score(X_train, Y_train), classifier.score(X_test, Y_test)"
   ]
  },
  {
   "cell_type": "markdown",
   "metadata": {},
   "source": [
    "**Look at the confusion matrix and classification reports**"
   ]
  },
  {
   "cell_type": "code",
   "execution_count": 75,
   "metadata": {},
   "outputs": [
    {
     "name": "stdout",
     "output_type": "stream",
     "text": [
      "[[10467  4246]\n",
      " [  220   536]]\n",
      "             precision    recall  f1-score   support\n",
      "\n",
      "          0       0.98      0.71      0.82     14713\n",
      "          1       0.11      0.71      0.19       756\n",
      "\n",
      "avg / total       0.94      0.71      0.79     15469\n",
      "\n"
     ]
    }
   ],
   "source": [
    "test_pred = classifier.predict(X_test)\n",
    "print(confusion_matrix(Y_test, test_pred))\n",
    "print(classification_report(Y_test,test_pred))"
   ]
  },
  {
   "cell_type": "markdown",
   "metadata": {},
   "source": [
    "**To get an ROC score you need to convert from binary classification (yes/no) to a probability of being yes or no. With those probabilites, we can run an ROC test. Note: some fitting methods used above will not output a probability score or do so by default**"
   ]
  },
  {
   "cell_type": "code",
   "execution_count": 76,
   "metadata": {},
   "outputs": [
    {
     "name": "stdout",
     "output_type": "stream",
     "text": [
      "0.7749595254098075\n"
     ]
    }
   ],
   "source": [
    "test_prob = classifier.predict_proba(X_test)\n",
    "a, b = zip(*test_prob)\n",
    "test_prob = b\n",
    "print(roc_auc_score(Y_test, test_prob))"
   ]
  },
  {
   "cell_type": "markdown",
   "metadata": {},
   "source": [
    "**Some methods let you look at how important different features are/were**"
   ]
  },
  {
   "cell_type": "code",
   "execution_count": 77,
   "metadata": {},
   "outputs": [
    {
     "ename": "AttributeError",
     "evalue": "'LogisticRegression' object has no attribute 'feature_importances_'",
     "output_type": "error",
     "traceback": [
      "\u001b[0;31m---------------------------------------------------------------------------\u001b[0m",
      "\u001b[0;31mAttributeError\u001b[0m                            Traceback (most recent call last)",
      "\u001b[0;32m<ipython-input-77-a9c91f6f2504>\u001b[0m in \u001b[0;36m<module>\u001b[0;34m()\u001b[0m\n\u001b[0;32m----> 1\u001b[0;31m \u001b[0mclassifier\u001b[0m\u001b[0;34m.\u001b[0m\u001b[0mfeature_importances_\u001b[0m\u001b[0;34m\u001b[0m\u001b[0m\n\u001b[0m",
      "\u001b[0;31mAttributeError\u001b[0m: 'LogisticRegression' object has no attribute 'feature_importances_'"
     ]
    }
   ],
   "source": [
    "classifier.feature_importances_"
   ]
  },
  {
   "cell_type": "code",
   "execution_count": 78,
   "metadata": {},
   "outputs": [
    {
     "data": {
      "text/plain": [
       "{'C': 1.0,\n",
       " 'class_weight': 'balanced',\n",
       " 'dual': False,\n",
       " 'fit_intercept': True,\n",
       " 'intercept_scaling': 1,\n",
       " 'max_iter': 100,\n",
       " 'multi_class': 'multinomial',\n",
       " 'n_jobs': 1,\n",
       " 'penalty': 'l2',\n",
       " 'random_state': 0,\n",
       " 'solver': 'lbfgs',\n",
       " 'tol': 0.0001,\n",
       " 'verbose': 0,\n",
       " 'warm_start': False}"
      ]
     },
     "execution_count": 78,
     "metadata": {},
     "output_type": "execute_result"
    }
   ],
   "source": [
    "classifier.get_params()"
   ]
  },
  {
   "cell_type": "code",
   "execution_count": 79,
   "metadata": {},
   "outputs": [
    {
     "data": {
      "text/plain": [
       "array([[ 0.10829117, -0.02125063]])"
      ]
     },
     "execution_count": 79,
     "metadata": {},
     "output_type": "execute_result"
    }
   ],
   "source": [
    "classifier.coef_"
   ]
  },
  {
   "cell_type": "code",
   "execution_count": null,
   "metadata": {},
   "outputs": [],
   "source": []
  }
 ],
 "metadata": {
  "kernelspec": {
   "display_name": "Python 3",
   "language": "python",
   "name": "python3"
  },
  "language_info": {
   "codemirror_mode": {
    "name": "ipython",
    "version": 3
   },
   "file_extension": ".py",
   "mimetype": "text/x-python",
   "name": "python",
   "nbconvert_exporter": "python",
   "pygments_lexer": "ipython3",
   "version": "3.7.0"
  },
  "toc": {
   "colors": {
    "hover_highlight": "#DAA520",
    "navigate_num": "#000000",
    "navigate_text": "#333333",
    "running_highlight": "#FF0000",
    "selected_highlight": "#FFD700",
    "sidebar_border": "#EEEEEE",
    "wrapper_background": "#FFFFFF"
   },
   "moveMenuLeft": true,
   "nav_menu": {
    "height": "102px",
    "width": "252px"
   },
   "navigate_menu": true,
   "number_sections": true,
   "sideBar": true,
   "threshold": 4,
   "toc_cell": false,
   "toc_section_display": "block",
   "toc_window_display": false,
   "widenNotebook": false
  }
 },
 "nbformat": 4,
 "nbformat_minor": 2
}
